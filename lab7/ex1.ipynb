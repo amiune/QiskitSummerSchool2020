{
 "cells": [
  {
   "cell_type": "markdown",
   "metadata": {},
   "source": [
    "![image](resources/qgss-header.png)"
   ]
  },
  {
   "cell_type": "markdown",
   "metadata": {},
   "source": [
    "# Lab 7: Qubit Spectroscopy"
   ]
  },
  {
   "cell_type": "markdown",
   "metadata": {},
   "source": [
    "In this lab, you will take what you learned about the interactions between qubits and resonators to perform transmon spectroscopy with the pulse simulator."
   ]
  },
  {
   "cell_type": "markdown",
   "metadata": {},
   "source": [
    "### Installing Necessary Packages\n",
    "Before we begin, you will need to install some prerequisites into your environment. Run the cell below to complete these installations. At the end, the cell outputs will be cleared."
   ]
  },
  {
   "cell_type": "code",
   "execution_count": 1,
   "metadata": {},
   "outputs": [
    {
     "name": "stdout",
     "output_type": "stream",
     "text": [
      "  Installing backend dependencies: finished with status 'done'\n",
      "    Preparing wheel metadata: started\n",
      "    Preparing wheel metadata: finished with status 'done'\n",
      "Requirement already up-to-date: qiskit==0.19 in c:\\users\\hernan\\anaconda3\\envs\\qiskit\\lib\\site-packages (from -r grading_tools/requirements.txt (line 1)) (0.19.0)\n",
      "Requirement already up-to-date: scipy==1.5.1 in c:\\users\\hernan\\anaconda3\\envs\\qiskit\\lib\\site-packages (from -r grading_tools/requirements.txt (line 2)) (1.5.1)\n",
      "Requirement already up-to-date: sympy==1.6.1 in c:\\users\\hernan\\anaconda3\\envs\\qiskit\\lib\\site-packages (from -r grading_tools/requirements.txt (line 3)) (1.6.1)\n",
      "Requirement already satisfied, skipping upgrade: cython>=0.27.1 in c:\\users\\hernan\\anaconda3\\envs\\qiskit\\lib\\site-packages (from qiskit-aer==0.6.0->-r grading_tools/requirements.txt (line 4)) (0.29.21)\n",
      "Requirement already satisfied, skipping upgrade: numpy>=1.16.3; python_version > \"3.5\" in c:\\users\\hernan\\anaconda3\\envs\\qiskit\\lib\\site-packages (from qiskit-aer==0.6.0->-r grading_tools/requirements.txt (line 4)) (1.19.0)\n",
      "Requirement already satisfied, skipping upgrade: pybind11>=2.4 in c:\\users\\hernan\\anaconda3\\envs\\qiskit\\lib\\site-packages (from qiskit-aer==0.6.0->-r grading_tools/requirements.txt (line 4)) (2.5.0)\n",
      "Requirement already satisfied, skipping upgrade: qiskit-terra>=0.12.0 in c:\\users\\hernan\\anaconda3\\envs\\qiskit\\lib\\site-packages (from qiskit-aer==0.6.0->-r grading_tools/requirements.txt (line 4)) (0.14.0)\n",
      "Requirement already satisfied, skipping upgrade: qiskit-aqua==0.7.0 in c:\\users\\hernan\\anaconda3\\envs\\qiskit\\lib\\site-packages (from qiskit==0.19->-r grading_tools/requirements.txt (line 1)) (0.7.0)\n",
      "Requirement already satisfied, skipping upgrade: qiskit-ibmq-provider==0.7.0 in c:\\users\\hernan\\anaconda3\\envs\\qiskit\\lib\\site-packages (from qiskit==0.19->-r grading_tools/requirements.txt (line 1)) (0.7.0)\n",
      "Requirement already satisfied, skipping upgrade: qiskit-ignis==0.3.0 in c:\\users\\hernan\\anaconda3\\envs\\qiskit\\lib\\site-packages (from qiskit==0.19->-r grading_tools/requirements.txt (line 1)) (0.3.0)\n",
      "Requirement already satisfied, skipping upgrade: mpmath>=0.19 in c:\\users\\hernan\\anaconda3\\envs\\qiskit\\lib\\site-packages (from sympy==1.6.1->-r grading_tools/requirements.txt (line 3)) (1.1.0)\n",
      "Requirement already satisfied, skipping upgrade: fastjsonschema>=2.10 in c:\\users\\hernan\\anaconda3\\envs\\qiskit\\lib\\site-packages (from qiskit-terra>=0.12.0->qiskit-aer==0.6.0->-r grading_tools/requirements.txt (line 4)) (2.14.4)\n",
      "Requirement already satisfied, skipping upgrade: python-constraint>=1.4 in c:\\users\\hernan\\anaconda3\\envs\\qiskit\\lib\\site-packages (from qiskit-terra>=0.12.0->qiskit-aer==0.6.0->-r grading_tools/requirements.txt (line 4)) (1.4.0)\n",
      "Requirement already satisfied, skipping upgrade: marshmallow-polyfield<6,>=5.7 in c:\\users\\hernan\\anaconda3\\envs\\qiskit\\lib\\site-packages (from qiskit-terra>=0.12.0->qiskit-aer==0.6.0->-r grading_tools/requirements.txt (line 4)) (5.9)\n",
      "Requirement already satisfied, skipping upgrade: networkx>=2.2; python_version > \"3.5\" in c:\\users\\hernan\\anaconda3\\envs\\qiskit\\lib\\site-packages (from qiskit-terra>=0.12.0->qiskit-aer==0.6.0->-r grading_tools/requirements.txt (line 4)) (2.4)\n",
      "Requirement already satisfied, skipping upgrade: retworkx>=0.3.2 in c:\\users\\hernan\\anaconda3\\envs\\qiskit\\lib\\site-packages (from qiskit-terra>=0.12.0->qiskit-aer==0.6.0->-r grading_tools/requirements.txt (line 4)) (0.4.0)\n",
      "Requirement already satisfied, skipping upgrade: psutil>=5 in c:\\users\\hernan\\anaconda3\\envs\\qiskit\\lib\\site-packages (from qiskit-terra>=0.12.0->qiskit-aer==0.6.0->-r grading_tools/requirements.txt (line 4)) (5.7.2)\n",
      "Requirement already satisfied, skipping upgrade: dill>=0.3 in c:\\users\\hernan\\anaconda3\\envs\\qiskit\\lib\\site-packages (from qiskit-terra>=0.12.0->qiskit-aer==0.6.0->-r grading_tools/requirements.txt (line 4)) (0.3.2)\n",
      "Requirement already satisfied, skipping upgrade: ply>=3.10 in c:\\users\\hernan\\anaconda3\\envs\\qiskit\\lib\\site-packages (from qiskit-terra>=0.12.0->qiskit-aer==0.6.0->-r grading_tools/requirements.txt (line 4)) (3.11)\n",
      "Requirement already satisfied, skipping upgrade: jsonschema>=2.6 in c:\\users\\hernan\\anaconda3\\envs\\qiskit\\lib\\site-packages (from qiskit-terra>=0.12.0->qiskit-aer==0.6.0->-r grading_tools/requirements.txt (line 4)) (3.2.0)\n",
      "Requirement already satisfied, skipping upgrade: python-dateutil>=2.8.0 in c:\\users\\hernan\\anaconda3\\envs\\qiskit\\lib\\site-packages (from qiskit-terra>=0.12.0->qiskit-aer==0.6.0->-r grading_tools/requirements.txt (line 4)) (2.8.1)\n",
      "Requirement already satisfied, skipping upgrade: marshmallow<4,>=3 in c:\\users\\hernan\\anaconda3\\envs\\qiskit\\lib\\site-packages (from qiskit-terra>=0.12.0->qiskit-aer==0.6.0->-r grading_tools/requirements.txt (line 4)) (3.7.1)\n"
     ]
    },
    {
     "name": "stderr",
     "output_type": "stream",
     "text": [
      "\n",
      "  -- The C compiler identification is unknown\n",
      "  CMake Error at CMakeLists.txt:3 (ENABLE_LANGUAGE):\n",
      "    The CMAKE_C_COMPILER:\n",
      "  \n",
      "      cl\n",
      "  \n",
      "    is not a full path and was not found in the PATH.\n",
      "  \n",
      "    To use the NMake generator with Visual C++, cmake must be run from a shell\n",
      "    that can use the compiler cl from the command line.  This environment is\n",
      "    unable to invoke the cl compiler.  To fix this problem, run cmake from the\n",
      "    Visual Studio Command Prompt (vcvarsall.bat).\n",
      "  \n",
      "    Tell CMake where to find the compiler by setting either the environment\n",
      "    variable \"CC\" or the CMake cache entry CMAKE_C_COMPILER to the full path to\n",
      "    the compiler, or to the compiler name if it is in the PATH.\n",
      "  \n",
      "  \n",
      "  -- Configuring incomplete, errors occurred!\n",
      "  See also \"C:/Users/Hernan/AppData/Local/Temp/pip-req-build-7yy62sb7/_cmake_test_compile/build/CMakeFiles/CMakeOutput.log\".\n",
      "  See also \"C:/Users/Hernan/AppData/Local/Temp/pip-req-build-7yy62sb7/_cmake_test_compile/build/CMakeFiles/CMakeError.log\".\n",
      "  Not searching for unused variables given on the command line.\n",
      "  -- The C compiler identification is unknown\n",
      "  CMake Error at CMakeLists.txt:3 (ENABLE_LANGUAGE):\n",
      "    The CMAKE_C_COMPILER:\n",
      "  \n",
      "      cl\n",
      "  \n",
      "    is not a full path and was not found in the PATH.\n",
      "  \n",
      "    To use the JOM generator with Visual C++, cmake must be run from a shell\n",
      "    that can use the compiler cl from the command line.  This environment is\n",
      "    unable to invoke the cl compiler.  To fix this problem, run cmake from the\n",
      "    Visual Studio Command Prompt (vcvarsall.bat).\n",
      "  \n",
      "    Tell CMake where to find the compiler by setting either the environment\n",
      "    variable \"CC\" or the CMake cache entry CMAKE_C_COMPILER to the full path to\n",
      "    the compiler, or to the compiler name if it is in the PATH.\n",
      "  \n",
      "  \n",
      "  -- Configuring incomplete, errors occurred!\n",
      "  See also \"C:/Users/Hernan/AppData/Local/Temp/pip-req-build-7yy62sb7/_cmake_test_compile/build/CMakeFiles/CMakeOutput.log\".\n",
      "  See also \"C:/Users/Hernan/AppData/Local/Temp/pip-req-build-7yy62sb7/_cmake_test_compile/build/CMakeFiles/CMakeError.log\".\n",
      "  \n",
      "  \n",
      "  --------------------------------------------------------------------------------\n",
      "  -- Trying \"Ninja (Visual Studio 15 2017 Win64 v141)\" generator\n",
      "  --------------------------------\n",
      "  ---------------------------\n",
      "  ----------------------\n",
      "  -----------------\n",
      "  ------------\n",
      "  -------\n",
      "  --\n",
      "  --\n",
      "  -------\n",
      "  ------------"
     ]
    },
    {
     "name": "stdout",
     "output_type": "stream",
     "text": [
      "Requirement already satisfied, skipping upgrade: fastdtw in c:\\users\\hernan\\anaconda3\\envs\\qiskit\\lib\\site-packages (from qiskit-aqua==0.7.0->qiskit==0.19->-r grading_tools/requirements.txt (line 1)) (0.3.4)\n",
      "Requirement already satisfied, skipping upgrade: setuptools>=40.1.0 in c:\\users\\hernan\\anaconda3\\envs\\qiskit\\lib\\site-packages (from qiskit-aqua==0.7.0->qiskit==0.19->-r grading_tools/requirements.txt (line 1)) (49.2.0.post20200714)\n",
      "Requirement already satisfied, skipping upgrade: dlx in c:\\users\\hernan\\anaconda3\\envs\\qiskit\\lib\\site-packages (from qiskit-aqua==0.7.0->qiskit==0.19->-r grading_tools/requirements.txt (line 1)) (1.0.4)\n",
      "Requirement already satisfied, skipping upgrade: h5py in c:\\users\\hernan\\anaconda3\\envs\\qiskit\\lib\\site-packages (from qiskit-aqua==0.7.0->qiskit==0.19->-r grading_tools/requirements.txt (line 1)) (2.10.0)\n",
      "Requirement already satisfied, skipping upgrade: scikit-learn>=0.20.0 in c:\\users\\hernan\\anaconda3\\envs\\qiskit\\lib\\site-packages (from qiskit-aqua==0.7.0->qiskit==0.19->-r grading_tools/requirements.txt (line 1)) (0.23.1)\n",
      "Requirement already satisfied, skipping upgrade: quandl in c:\\users\\hernan\\anaconda3\\envs\\qiskit\\lib\\site-packages (from qiskit-aqua==0.7.0->qiskit==0.19->-r grading_tools/requirements.txt (line 1)) (3.5.1)\n",
      "Requirement already satisfied, skipping upgrade: docplex in c:\\users\\hernan\\anaconda3\\envs\\qiskit\\lib\\site-packages (from qiskit-aqua==0.7.0->qiskit==0.19->-r grading_tools/requirements.txt (line 1)) (2.15.194)\n",
      "Requirement already satisfied, skipping upgrade: websockets<8,>=7 in c:\\users\\hernan\\anaconda3\\envs\\qiskit\\lib\\site-packages (from qiskit-ibmq-provider==0.7.0->qiskit==0.19->-r grading_tools/requirements.txt (line 1)) (7.0)\n",
      "Requirement already satisfied, skipping upgrade: urllib3>=1.21.1 in c:\\users\\hernan\\anaconda3\\envs\\qiskit\\lib\\site-packages (from qiskit-ibmq-provider==0.7.0->qiskit==0.19->-r grading_tools/requirements.txt (line 1)) (1.25.9)\n",
      "Requirement already satisfied, skipping upgrade: requests-ntlm>=1.1.0 in c:\\users\\hernan\\anaconda3\\envs\\qiskit\\lib\\site-packages (from qiskit-ibmq-provider==0.7.0->qiskit==0.19->-r grading_tools/requirements.txt (line 1)) (1.1.0)\n",
      "Requirement already satisfied, skipping upgrade: requests>=2.19 in c:\\users\\hernan\\anaconda3\\envs\\qiskit\\lib\\site-packages (from qiskit-ibmq-provider==0.7.0->qiskit==0.19->-r grading_tools/requirements.txt (line 1)) (2.24.0)\n",
      "Requirement already satisfied, skipping upgrade: nest-asyncio!=1.1.0,>=1.0.0 in c:\\users\\hernan\\anaconda3\\envs\\qiskit\\lib\\site-packages (from qiskit-ibmq-provider==0.7.0->qiskit==0.19->-r grading_tools/requirements.txt (line 1)) (1.4.0)\n",
      "Requirement already satisfied, skipping upgrade: decorator>=4.3.0 in c:\\users\\hernan\\anaconda3\\envs\\qiskit\\lib\\site-packages (from networkx>=2.2; python_version > \"3.5\"->qiskit-terra>=0.12.0->qiskit-aer==0.6.0->-r grading_tools/requirements.txt (line 4)) (4.4.2)\n",
      "Requirement already satisfied, skipping upgrade: pyrsistent>=0.14.0 in c:\\users\\hernan\\anaconda3\\envs\\qiskit\\lib\\site-packages (from jsonschema>=2.6->qiskit-terra>=0.12.0->qiskit-aer==0.6.0->-r grading_tools/requirements.txt (line 4)) (0.16.0)\n",
      "Requirement already satisfied, skipping upgrade: attrs>=17.4.0 in c:\\users\\hernan\\anaconda3\\envs\\qiskit\\lib\\site-packages (from jsonschema>=2.6->qiskit-terra>=0.12.0->qiskit-aer==0.6.0->-r grading_tools/requirements.txt (line 4)) (19.3.0)\n",
      "Requirement already satisfied, skipping upgrade: six>=1.11.0 in c:\\users\\hernan\\anaconda3\\envs\\qiskit\\lib\\site-packages (from jsonschema>=2.6->qiskit-terra>=0.12.0->qiskit-aer==0.6.0->-r grading_tools/requirements.txt (line 4)) (1.15.0)\n",
      "Requirement already satisfied, skipping upgrade: threadpoolctl>=2.0.0 in c:\\users\\hernan\\anaconda3\\envs\\qiskit\\lib\\site-packages (from scikit-learn>=0.20.0->qiskit-aqua==0.7.0->qiskit==0.19->-r grading_tools/requirements.txt (line 1)) (2.1.0)\n",
      "Requirement already satisfied, skipping upgrade: joblib>=0.11 in c:\\users\\hernan\\anaconda3\\envs\\qiskit\\lib\\site-packages (from scikit-learn>=0.20.0->qiskit-aqua==0.7.0->qiskit==0.19->-r grading_tools/requirements.txt (line 1)) (0.16.0)\n",
      "Requirement already satisfied, skipping upgrade: inflection>=0.3.1 in c:\\users\\hernan\\anaconda3\\envs\\qiskit\\lib\\site-packages (from quandl->qiskit-aqua==0.7.0->qiskit==0.19->-r grading_tools/requirements.txt (line 1)) (0.5.0)\n",
      "Requirement already satisfied, skipping upgrade: pandas>=0.14 in c:\\users\\hernan\\anaconda3\\envs\\qiskit\\lib\\site-packages (from quandl->qiskit-aqua==0.7.0->qiskit==0.19->-r grading_tools/requirements.txt (line 1)) (1.0.5)\n",
      "Requirement already satisfied, skipping upgrade: more-itertools in c:\\users\\hernan\\anaconda3\\envs\\qiskit\\lib\\site-packages (from quandl->qiskit-aqua==0.7.0->qiskit==0.19->-r grading_tools/requirements.txt (line 1)) (8.4.0)\n",
      "Requirement already satisfied, skipping upgrade: cryptography>=1.3 in c:\\users\\hernan\\anaconda3\\envs\\qiskit\\lib\\site-packages (from requests-ntlm>=1.1.0->qiskit-ibmq-provider==0.7.0->qiskit==0.19->-r grading_tools/requirements.txt (line 1)) (2.9.2)\n",
      "Requirement already satisfied, skipping upgrade: ntlm-auth>=1.0.2 in c:\\users\\hernan\\anaconda3\\envs\\qiskit\\lib\\site-packages (from requests-ntlm>=1.1.0->qiskit-ibmq-provider==0.7.0->qiskit==0.19->-r grading_tools/requirements.txt (line 1)) (1.5.0)\n",
      "Requirement already satisfied, skipping upgrade: chardet<4,>=3.0.2 in c:\\users\\hernan\\anaconda3\\envs\\qiskit\\lib\\site-packages (from requests>=2.19->qiskit-ibmq-provider==0.7.0->qiskit==0.19->-r grading_tools/requirements.txt (line 1)) (3.0.4)\n",
      "Requirement already satisfied, skipping upgrade: certifi>=2017.4.17 in c:\\users\\hernan\\anaconda3\\envs\\qiskit\\lib\\site-packages (from requests>=2.19->qiskit-ibmq-provider==0.7.0->qiskit==0.19->-r grading_tools/requirements.txt (line 1)) (2020.6.20)\n",
      "Requirement already satisfied, skipping upgrade: idna<3,>=2.5 in c:\\users\\hernan\\anaconda3\\envs\\qiskit\\lib\\site-packages (from requests>=2.19->qiskit-ibmq-provider==0.7.0->qiskit==0.19->-r grading_tools/requirements.txt (line 1)) (2.10)\n",
      "Requirement already satisfied, skipping upgrade: pytz>=2017.2 in c:\\users\\hernan\\anaconda3\\envs\\qiskit\\lib\\site-packages (from pandas>=0.14->quandl->qiskit-aqua==0.7.0->qiskit==0.19->-r grading_tools/requirements.txt (line 1)) (2020.1)\n",
      "Requirement already satisfied, skipping upgrade: cffi!=1.11.3,>=1.8 in c:\\users\\hernan\\anaconda3\\envs\\qiskit\\lib\\site-packages (from cryptography>=1.3->requests-ntlm>=1.1.0->qiskit-ibmq-provider==0.7.0->qiskit==0.19->-r grading_tools/requirements.txt (line 1)) (1.14.0)\n",
      "Requirement already satisfied, skipping upgrade: pycparser in c:\\users\\hernan\\anaconda3\\envs\\qiskit\\lib\\site-packages (from cffi!=1.11.3,>=1.8->cryptography>=1.3->requests-ntlm>=1.1.0->qiskit-ibmq-provider==0.7.0->qiskit==0.19->-r grading_tools/requirements.txt (line 1)) (2.20)\n",
      "Building wheels for collected packages: qiskit-aer\n",
      "  Building wheel for qiskit-aer (PEP 517): started\n",
      "  Building wheel for qiskit-aer (PEP 517): finished with status 'error'\n",
      "Failed to build qiskit-aer\n"
     ]
    },
    {
     "name": "stderr",
     "output_type": "stream",
     "text": [
      "\n",
      "  -----------------\n",
      "  ----------------------\n",
      "  ---------------------------\n",
      "  --------------------------------\n",
      "  -- Trying \"Ninja (Visual Studio 15 2017 Win64 v141)\" generator - failure\n",
      "  --------------------------------------------------------------------------------\n",
      "  \n",
      "  \n",
      "  \n",
      "  --------------------------------------------------------------------------------\n",
      "  -- Trying \"Visual Studio 15 2017 Win64 v141\" generator\n",
      "  --------------------------------\n",
      "  ---------------------------\n",
      "  ----------------------\n",
      "  -----------------\n",
      "  ------------\n",
      "  -------\n",
      "  --\n",
      "  --\n",
      "  -------\n",
      "  ------------\n",
      "  -----------------\n",
      "  ----------------------\n",
      "  ---------------------------\n",
      "  --------------------------------\n",
      "  -- Trying \"Visual Studio 15 2017 Win64 v141\" generator - failure\n",
      "  --------------------------------------------------------------------------------\n",
      "  \n",
      "  \n",
      "  \n",
      "  --------------------------------------------------------------------------------\n",
      "  -- Trying \"NMake Makefiles (Visual Studio 15 2017 Win64 v141)\" generator\n",
      "  --------------------------------\n",
      "  ---------------------------\n",
      "  ----------------------\n",
      "  -----------------\n",
      "  ------------\n",
      "  -------\n",
      "  --\n",
      "  --\n",
      "  -------\n",
      "  ------------\n",
      "  -----------------\n",
      "  ----------------------\n",
      "  ---------------------------\n",
      "  --------------------------------\n",
      "  -- Trying \"NMake Makefiles (Visual Studio 15 2017 Win64 v141)\" generator - failure\n",
      "  --------------------------------------------------------------------------------\n",
      "  \n",
      "  \n",
      "  \n",
      "  --------------------------------------------------------------------------------\n",
      "  -- Trying \"NMake Makefiles JOM (Visual Studio 15 2017 Win64 v141)\" generator\n",
      "  --------------------------------\n",
      "  ---------------------------\n",
      "  ----------------------\n",
      "  -----------------\n",
      "  ------------\n",
      "  -------\n",
      "  --\n",
      "  --\n",
      "  -------\n",
      "  ------------\n",
      "  -----------------\n",
      "  ----------------------\n",
      "  ---------------------------\n",
      "  --------------------------------\n",
      "  -- Trying \"NMake Makefiles JOM (Visual Studio 15 2017 Win64 v141)\" generator - failure\n",
      "  --------------------------------------------------------------------------------\n",
      "  \n",
      "  ********************************************************************************\n",
      "  scikit-build could not get a working generator for your system. Aborting build.\n",
      "  \n",
      "  Building windows wheels for Python 3.8 requires Microsoft Visual Studio 2017.\n",
      "  Get it with \"Visual Studio 2017\":\n",
      "  \n",
      "    https://visualstudio.microsoft.com/vs/\n",
      "  \n",
      "  ********************************************************************************\n",
      "  ----------------------------------------\n",
      "  ERROR: Failed building wheel for qiskit-aer\n"
     ]
    }
   ],
   "source": [
    "!pip install -U -r grading_tools/requirements.txt\n",
    "\n",
    "from IPython.display import clear_output\n",
    "clear_output()"
   ]
  },
  {
   "cell_type": "markdown",
   "metadata": {},
   "source": [
    "## Simulating the Transmon as a Duffing Oscillator"
   ]
  },
  {
   "cell_type": "markdown",
   "metadata": {},
   "source": [
    "As you learned in Lecture 6, the transmon can be understood as a Duffing oscillator specified by a frequency $\\nu$, anharmonicity $\\alpha$, and drive strength $r$, which results in the Hamiltonian\n",
    "$$\n",
    "   \\hat{H}_{\\rm Duff}/\\hbar = 2\\pi\\nu a^\\dagger a + \\pi \\alpha a^\\dagger a(a^\\dagger a - 1) + 2 \\pi r (a + a^\\dagger) \\times D(t),\n",
    "$$\n",
    "\n",
    "where $D(t)$ is the signal on the drive channel for the qubit, and $a^\\dagger$ and $a$ are, respectively, the creation and annihilation operators for the qubit. Note that the drive strength $r$ sets the scaling of the control term, with $D(t)$ assumed to be a complex and unitless number satisfying $|D(t)| \\leq 1$. "
   ]
  },
  {
   "cell_type": "markdown",
   "metadata": {},
   "source": [
    "## Qiskit Pulse Overview\n",
    "\n",
    "As a brief overview, Qiskit Pulse schedules (experiments) consist of Instructions (i.e., Play) acting on Channels (i.e., the drive channel). Here is a summary table of available Instructions and Channels:\n",
    "\n",
    "![image](resources/pulse-instr.png)\n",
    "\n",
    "For more detail, this table summarizes the interaction of the channels with the actual quantum hardware:\n",
    "\n",
    "![image](resources/pulse-user-device-layers.png)\n",
    "\n",
    "However, we find it is more instructive to begin with guided programming in Pulse. Below you will learn how to create pulses, schedules, and run experiments on a simulator. These lessons can be immediately applied to actual pulse-enabled quantum hardware, in particular [`ibmq_armonk`](https://www.ibm.com/blogs/research/2019/12/qiskit-openpulse/)."
   ]
  },
  {
   "cell_type": "markdown",
   "metadata": {},
   "source": [
    "## Let's get started!"
   ]
  },
  {
   "cell_type": "markdown",
   "metadata": {},
   "source": [
    "In most of the cells below, nothing needs to be modified. **However, you will need to execute the cells by pressing `shift+Enter` in each code block**. In order to keep things tidy and focus on the important aspects of Qiskit Pulse, the following cells make use of methods from the `helper` module. For the gory details, please refer back to the [Lab 7 notebook](lab7-jc-spect-readout.ipynb). Just as in Lab 6, before coming to the discussion of **Sideband Modulation**, the following code blocks\n",
    "\n",
    "- create backend pulse simulator and instantiate the transmon as a Duffing oscillator of frequency $\\sim 5$ GHz\n",
    "- import libraries for numerics and visualization, and define helpful constants\n",
    "- create the channels for the pulse schedule and define measurment schedule (we will only work with the drive channel)"
   ]
  },
  {
   "cell_type": "code",
   "execution_count": 2,
   "metadata": {},
   "outputs": [
    {
     "name": "stderr",
     "output_type": "stream",
     "text": [
      "ERROR: Could not build wheels for qiskit-aer which use PEP 517 and cannot be installed directly\n"
     ]
    }
   ],
   "source": [
    "# our backend is the Pulse Simulator\n",
    "from resources import helper\n",
    "from qiskit.providers.aer import PulseSimulator\n",
    "backend_sim = PulseSimulator()\n",
    "\n",
    "# sample duration for pulse instructions \n",
    "dt = 1e-9\n",
    "\n",
    "# create the model\n",
    "duffing_model = helper.get_transmon(dt)\n",
    "\n",
    "# get qubit frequency from Duffing model\n",
    "qubit_lo_freq = duffing_model.hamiltonian.get_qubit_lo_from_drift()"
   ]
  },
  {
   "cell_type": "code",
   "execution_count": 3,
   "metadata": {},
   "outputs": [],
   "source": [
    "import numpy as np\n",
    "\n",
    "# visualization tools\n",
    "import matplotlib.pyplot as plt\n",
    "plt.style.use('dark_background')\n",
    "\n",
    "# unit conversion factors -> all backend properties returned in SI (Hz, sec, etc)\n",
    "GHz = 1.0e9 # Gigahertz\n",
    "MHz = 1.0e6 # Megahertz\n",
    "kHz = 1.0e3 # kilohertz\n",
    "us = 1.0e-6 # microseconds\n",
    "ns = 1.0e-9 # nanoseconds"
   ]
  },
  {
   "cell_type": "markdown",
   "metadata": {},
   "source": [
    "### Instantiate channels and create measurement schedule\n",
    "\n",
    "We will use the same measurement schedule throughout, whereas the drive schedules will vary. This must be built for the simulator, for a real backend we can ask for its default measurement pulse."
   ]
  },
  {
   "cell_type": "code",
   "execution_count": 4,
   "metadata": {},
   "outputs": [],
   "source": [
    "from qiskit import pulse\n",
    "from qiskit.pulse import Play, Acquire\n",
    "from qiskit.pulse.pulse_lib import GaussianSquare\n",
    "\n",
    "# qubit to be used throughout the notebook\n",
    "qubit = 0\n",
    "\n",
    "### Collect the necessary channels\n",
    "drive_chan = pulse.DriveChannel(qubit)\n",
    "meas_chan = pulse.MeasureChannel(qubit)\n",
    "acq_chan = pulse.AcquireChannel(qubit)\n",
    "\n",
    "# Construct a measurement schedule and add it to an InstructionScheduleMap\n",
    "meas_samples = 1200\n",
    "meas_pulse = GaussianSquare(duration=meas_samples, amp=0.025, sigma=4, width=1150)\n",
    "measure_sched = Play(meas_pulse, meas_chan) | Acquire(meas_samples, acq_chan, pulse.MemorySlot(qubit))\n",
    "\n",
    "inst_map = pulse.InstructionScheduleMap()\n",
    "inst_map.add('measure', [qubit], measure_sched)\n",
    "\n",
    "# save the measurement/acquire pulse for later\n",
    "measure = inst_map.get('measure', qubits=[qubit])"
   ]
  },
  {
   "cell_type": "markdown",
   "metadata": {},
   "source": [
    "## Sideband Modulation\n",
    "\n",
    "Unlike the case of running on an actual device, with the simulator we can only set the (local) oscillator frequency of the drive, $f_{\\rm LO}$, to a single value. In order to sweep frequencies to perform spectroscopy, we use a trick called *sideband modulation*, where we modulate our spectroscopy pulse by a sideband frequency $f_{\\rm SB}$ so that the pulse applied to the qubit is of (radio) frequency\n",
    "\n",
    "$$ f_{\\rm RF} = f_{\\rm LO} + f_{\\rm SB}. $$\n",
    "\n",
    "This is achieved by multiplying each sample amplitude by a complex exponential \n",
    "\n",
    "$$ d_j^{\\rm SB} = \\sum_j e^{2\\pi f_{\\rm SB} t_j} d_j $$\n",
    "\n",
    "but we will tuck the details away in the `helper` module. The important thing is that we must apply the sideband for each pulse in order to change its frequency. "
   ]
  },
  {
   "cell_type": "markdown",
   "metadata": {},
   "source": [
    "Now, instead of `assemble`'ing a single schedule with an array of schedule LO's as, we will create a schedule of the same pulse *sidebanded* by an array of sideband frequecies at a fixed LO frequency. Since we are now considering a transmon, we have multiple energy levels we can perform spectroscopy on. We will being with spectroscopy of the $|0\\rangle \\to |1\\rangle$ transition, which is the one used as the qubit, often called the *computational basis*."
   ]
  },
  {
   "cell_type": "code",
   "execution_count": 5,
   "metadata": {},
   "outputs": [],
   "source": [
    "from qiskit.pulse import pulse_lib\n",
    "\n",
    "# the same spect pulse used in every schedule\n",
    "drive_amp = 0.9\n",
    "drive_sigma = 16\n",
    "drive_duration = 128\n",
    "spec_pulse = pulse_lib.gaussian(duration=drive_duration, amp=drive_amp, \n",
    "                                sigma=drive_sigma, name=f\"Spec drive amplitude = {drive_amp}\")\n",
    "\n",
    "# Construct an np array of the frequencies for our experiment\n",
    "spec_freqs_GHz = np.arange(5.0, 5.2, 0.005)\n",
    "\n",
    "# Create the base schedule\n",
    "# Start with drive pulse acting on the drive channel\n",
    "spec_schedules = []\n",
    "for freq in spec_freqs_GHz:\n",
    "    sb_spec_pulse = helper.apply_sideband(spec_pulse, qubit_lo_freq[0]-freq*GHz, dt)\n",
    "    \n",
    "    spec_schedule = pulse.Schedule(name='SB Frequency = {}'.format(freq))\n",
    "    spec_schedule += Play(sb_spec_pulse, drive_chan)\n",
    "    # The left shift `<<` is special syntax meaning to shift the start time of the schedule by some duration\n",
    "    spec_schedule += measure << spec_schedule.duration\n",
    "    spec_schedules.append(spec_schedule)"
   ]
  },
  {
   "cell_type": "code",
   "execution_count": 6,
   "metadata": {},
   "outputs": [
    {
     "data": {
      "image/png": "[encoded data removed]",
      "text/plain": [
       "<Figure size 720x864 with 1 Axes>"
      ]
     },
     "execution_count": 6,
     "metadata": {},
     "output_type": "execute_result"
    }
   ],
   "source": [
    "spec_schedules[0].draw()"
   ]
  },
  {
   "cell_type": "code",
   "execution_count": 7,
   "metadata": {},
   "outputs": [],
   "source": [
    "from qiskit import assemble\n",
    "\n",
    "# assemble the schedules into a Qobj\n",
    "spec01_qobj = assemble(**helper.get_params('spec01', globals()))"
   ]
  },
  {
   "cell_type": "code",
   "execution_count": 8,
   "metadata": {},
   "outputs": [],
   "source": [
    "# run the simulation\n",
    "spec01_result = backend_sim.run(spec01_qobj, duffing_model).result()"
   ]
  },
  {
   "cell_type": "code",
   "execution_count": 9,
   "metadata": {},
   "outputs": [],
   "source": [
    "# retrieve the data from the experiment\n",
    "spec01_values = helper.get_values_from_result(spec01_result, qubit)"
   ]
  },
  {
   "cell_type": "markdown",
   "metadata": {},
   "source": [
    "We will fit the spectroscopy signal to a Lorentzian function of the form\n",
    "\n",
    "$$ \\frac{AB}{\\pi[(f-f_{01})^2 + B^2]} + C $$\n",
    "\n",
    "to find the qubit frequency $f_{01}$."
   ]
  },
  {
   "cell_type": "code",
   "execution_count": 10,
   "metadata": {},
   "outputs": [
    {
     "data": {
      "image/png": "[encoded data removed]",
      "text/plain": [
       "<Figure size 432x288 with 1 Axes>"
      ]
     },
     "metadata": {},
     "output_type": "display_data"
    },
    {
     "name": "stdout",
     "output_type": "stream",
     "text": [
      "01 Spectroscopy yields 5.041236 GHz\n"
     ]
    }
   ],
   "source": [
    "fit_params, y_fit = helper.fit_lorentzian(spec_freqs_GHz, spec01_values, [5, 5, 1, 0])\n",
    "\n",
    "f01 = fit_params[1]\n",
    "\n",
    "plt.scatter(spec_freqs_GHz, np.real(spec01_values), color='white') # plot real part of sweep values\n",
    "plt.plot(spec_freqs_GHz, y_fit, color='red')\n",
    "plt.xlim([min(spec_freqs_GHz), max(spec_freqs_GHz)])\n",
    "\n",
    "plt.xlabel(\"Frequency [GHz]\")\n",
    "plt.ylabel(\"Measured Signal [a.u.]\")\n",
    "plt.show()\n",
    "\n",
    "print(\"01 Spectroscopy yields %f GHz\"%f01)"
   ]
  },
  {
   "cell_type": "markdown",
   "metadata": {},
   "source": [
    "# Exercise 1: Spectroscopy of 1->2 transition\n",
    "\n",
    "In order to observe the transition between the $|1\\rangle$ and $|2\\rangle$ states of the transmon, we must apply an $X_\\pi$ pulse to transition the qubit from $|0\\rangle$ to $|1\\rangle$ first. Because we are using the simulator, we must first define our $X_\\pi$ pulse from the Rabi experiment in Lab 6."
   ]
  },
  {
   "cell_type": "code",
   "execution_count": 11,
   "metadata": {},
   "outputs": [],
   "source": [
    "x180_amp = 0.629070 #from lab 6 Rabi experiment\n",
    "\n",
    "x_pulse = pulse_lib.gaussian(duration=drive_duration,\n",
    "                             amp=x180_amp, \n",
    "                             sigma=drive_sigma,\n",
    "                             name='x_pulse')"
   ]
  },
  {
   "cell_type": "markdown",
   "metadata": {},
   "source": [
    "The anharmonicity of our transmon qubits is typically around $-300$ MHz, so we will sweep around that value. "
   ]
  },
  {
   "cell_type": "code",
   "execution_count": 12,
   "metadata": {},
   "outputs": [],
   "source": [
    "anharmonicity_guess_GHz = -0.3\n",
    "\n",
    "def build_spec12_pulse_schedule(freq):\n",
    "    sb12_spec_pulse = helper.apply_sideband(spec_pulse, (freq + anharmonicity_guess_GHz)*GHz, dt)\n",
    "    \n",
    "    ### create a 12 spectroscopy pulse schedule spec12_schedule (already done)\n",
    "    ### play an x pulse on the drive channel\n",
    "    ### play sidebanded spec pulse on the drive channel\n",
    "    ### add measurement pulse to schedule\n",
    "    \n",
    "    spec12_schedule = pulse.Schedule()\n",
    "    \n",
    "    ### WRITE YOUR CODE BETWEEN THESE LINES - START\n",
    "    spec12_schedule += Play(x_pulse, drive_chan)\n",
    "    spec12_schedule += Play(sb12_spec_pulse, drive_chan)\n",
    "    spec12_schedule += measure << spec12_schedule.duration\n",
    "    ### WRITE YOUR CODE BETWEEN THESE LINES - END\n",
    "    \n",
    "    return spec12_schedule"
   ]
  },
  {
   "cell_type": "code",
   "execution_count": 13,
   "metadata": {},
   "outputs": [],
   "source": [
    "sb_freqs_GHz = np.arange(-.1, .1, 0.005) # sweep +/- 100 MHz around guess\n",
    "\n",
    "# now vary the sideband frequency for each spec pulse\n",
    "spec_schedules = []\n",
    "for freq in sb_freqs_GHz:\n",
    "    spec_schedules.append(build_spec12_pulse_schedule(freq))"
   ]
  },
  {
   "cell_type": "code",
   "execution_count": 14,
   "metadata": {},
   "outputs": [
    {
     "data": {
      "image/png": "[encoded data removed]",
      "text/plain": [
       "<Figure size 720x864 with 1 Axes>"
      ]
     },
     "execution_count": 14,
     "metadata": {},
     "output_type": "execute_result"
    }
   ],
   "source": [
    "spec_schedules[0].draw()"
   ]
  },
  {
   "cell_type": "code",
   "execution_count": 15,
   "metadata": {},
   "outputs": [],
   "source": [
    "# assemble the schedules into a Qobj\n",
    "spec12_qobj = assemble(**helper.get_params('spec12', globals()))\n",
    "answer1 = spec12_qobj"
   ]
  },
  {
   "cell_type": "code",
   "execution_count": 16,
   "metadata": {},
   "outputs": [],
   "source": [
    "# run the simulation\n",
    "spec12_result = backend_sim.run(spec12_qobj, duffing_model).result()"
   ]
  },
  {
   "cell_type": "code",
   "execution_count": 17,
   "metadata": {},
   "outputs": [],
   "source": [
    "# retrieve the data from the experiment\n",
    "spec12_values = helper.get_values_from_result(spec12_result, qubit)"
   ]
  },
  {
   "cell_type": "markdown",
   "metadata": {},
   "source": [
    "We will again fit the spectroscopy signal to a Lorentzian function of the form\n",
    "\n",
    "$$ \\frac{AB}{\\pi[(f-f_{12})^2 + B^2]} + C $$\n",
    "\n",
    "to find the frequency of the $|1\\rangle \\to |2\\rangle$ transition $f_{12}$."
   ]
  },
  {
   "cell_type": "code",
   "execution_count": 19,
   "metadata": {},
   "outputs": [
    {
     "ename": "RuntimeError",
     "evalue": "Optimal parameters not found: Number of calls to function has reached maxfev = 1000.",
     "output_type": "error",
     "traceback": [
      "\u001b[1;31m---------------------------------------------------------------------------\u001b[0m",
      "\u001b[1;31mRuntimeError\u001b[0m                              Traceback (most recent call last)",
      "\u001b[1;32m<ipython-input-19-5c29da7d8f5c>\u001b[0m in \u001b[0;36m<module>\u001b[1;34m\u001b[0m\n\u001b[0;32m      1\u001b[0m \u001b[0manharm_offset\u001b[0m \u001b[1;33m=\u001b[0m \u001b[0mqubit_lo_freq\u001b[0m\u001b[1;33m[\u001b[0m\u001b[1;36m0\u001b[0m\u001b[1;33m]\u001b[0m\u001b[1;33m/\u001b[0m\u001b[0mGHz\u001b[0m \u001b[1;33m+\u001b[0m \u001b[0manharmonicity_guess_GHz\u001b[0m\u001b[1;33m\u001b[0m\u001b[1;33m\u001b[0m\u001b[0m\n\u001b[0;32m      2\u001b[0m \u001b[1;33m\u001b[0m\u001b[0m\n\u001b[1;32m----> 3\u001b[1;33m \u001b[0mfit_params\u001b[0m\u001b[1;33m,\u001b[0m \u001b[0my_fit\u001b[0m \u001b[1;33m=\u001b[0m \u001b[0mhelper\u001b[0m\u001b[1;33m.\u001b[0m\u001b[0mfit_lorentzian\u001b[0m\u001b[1;33m(\u001b[0m\u001b[0manharm_offset\u001b[0m \u001b[1;33m+\u001b[0m \u001b[0msb_freqs_GHz\u001b[0m\u001b[1;33m,\u001b[0m \u001b[0mspec12_values\u001b[0m\u001b[1;33m,\u001b[0m \u001b[1;33m[\u001b[0m\u001b[1;36m5\u001b[0m\u001b[1;33m,\u001b[0m \u001b[1;36m4.5\u001b[0m\u001b[1;33m,\u001b[0m \u001b[1;36m.1\u001b[0m\u001b[1;33m,\u001b[0m \u001b[1;36m3\u001b[0m\u001b[1;33m]\u001b[0m\u001b[1;33m)\u001b[0m\u001b[1;33m\u001b[0m\u001b[1;33m\u001b[0m\u001b[0m\n\u001b[0m\u001b[0;32m      4\u001b[0m \u001b[1;33m\u001b[0m\u001b[0m\n\u001b[0;32m      5\u001b[0m \u001b[0mf12\u001b[0m \u001b[1;33m=\u001b[0m \u001b[0mfit_params\u001b[0m\u001b[1;33m[\u001b[0m\u001b[1;36m1\u001b[0m\u001b[1;33m]\u001b[0m\u001b[1;33m\u001b[0m\u001b[1;33m\u001b[0m\u001b[0m\n",
      "\u001b[1;32m~\\QiskitSummerSchool\\lab7\\resources\\helper.py\u001b[0m in \u001b[0;36mfit_lorentzian\u001b[1;34m(x_vals, y_vals, init_params)\u001b[0m\n\u001b[0;32m     82\u001b[0m   \u001b[1;32mfrom\u001b[0m \u001b[0mscipy\u001b[0m\u001b[1;33m.\u001b[0m\u001b[0moptimize\u001b[0m \u001b[1;32mimport\u001b[0m \u001b[0mcurve_fit\u001b[0m\u001b[1;33m\u001b[0m\u001b[1;33m\u001b[0m\u001b[0m\n\u001b[0;32m     83\u001b[0m \u001b[1;33m\u001b[0m\u001b[0m\n\u001b[1;32m---> 84\u001b[1;33m   \u001b[0mfit_params\u001b[0m\u001b[1;33m,\u001b[0m \u001b[0mconv\u001b[0m \u001b[1;33m=\u001b[0m \u001b[0mcurve_fit\u001b[0m\u001b[1;33m(\u001b[0m\u001b[0mlorentzian\u001b[0m\u001b[1;33m,\u001b[0m \u001b[0mx_vals\u001b[0m\u001b[1;33m,\u001b[0m \u001b[0my_vals\u001b[0m\u001b[1;33m,\u001b[0m \u001b[0minit_params\u001b[0m\u001b[1;33m)\u001b[0m\u001b[1;33m\u001b[0m\u001b[1;33m\u001b[0m\u001b[0m\n\u001b[0m\u001b[0;32m     85\u001b[0m   \u001b[0my_fit\u001b[0m \u001b[1;33m=\u001b[0m \u001b[0mlorentzian\u001b[0m\u001b[1;33m(\u001b[0m\u001b[0mx_vals\u001b[0m\u001b[1;33m,\u001b[0m \u001b[1;33m*\u001b[0m\u001b[0mfit_params\u001b[0m\u001b[1;33m)\u001b[0m\u001b[1;33m\u001b[0m\u001b[1;33m\u001b[0m\u001b[0m\n\u001b[0;32m     86\u001b[0m \u001b[1;33m\u001b[0m\u001b[0m\n",
      "\u001b[1;32mc:\\users\\hernan\\anaconda3\\envs\\qiskit\\lib\\site-packages\\scipy\\optimize\\minpack.py\u001b[0m in \u001b[0;36mcurve_fit\u001b[1;34m(f, xdata, ydata, p0, sigma, absolute_sigma, check_finite, bounds, method, jac, **kwargs)\u001b[0m\n\u001b[0;32m    787\u001b[0m         \u001b[0mcost\u001b[0m \u001b[1;33m=\u001b[0m \u001b[0mnp\u001b[0m\u001b[1;33m.\u001b[0m\u001b[0msum\u001b[0m\u001b[1;33m(\u001b[0m\u001b[0minfodict\u001b[0m\u001b[1;33m[\u001b[0m\u001b[1;34m'fvec'\u001b[0m\u001b[1;33m]\u001b[0m \u001b[1;33m**\u001b[0m \u001b[1;36m2\u001b[0m\u001b[1;33m)\u001b[0m\u001b[1;33m\u001b[0m\u001b[1;33m\u001b[0m\u001b[0m\n\u001b[0;32m    788\u001b[0m         \u001b[1;32mif\u001b[0m \u001b[0mier\u001b[0m \u001b[1;32mnot\u001b[0m \u001b[1;32min\u001b[0m \u001b[1;33m[\u001b[0m\u001b[1;36m1\u001b[0m\u001b[1;33m,\u001b[0m \u001b[1;36m2\u001b[0m\u001b[1;33m,\u001b[0m \u001b[1;36m3\u001b[0m\u001b[1;33m,\u001b[0m \u001b[1;36m4\u001b[0m\u001b[1;33m]\u001b[0m\u001b[1;33m:\u001b[0m\u001b[1;33m\u001b[0m\u001b[1;33m\u001b[0m\u001b[0m\n\u001b[1;32m--> 789\u001b[1;33m             \u001b[1;32mraise\u001b[0m \u001b[0mRuntimeError\u001b[0m\u001b[1;33m(\u001b[0m\u001b[1;34m\"Optimal parameters not found: \"\u001b[0m \u001b[1;33m+\u001b[0m \u001b[0merrmsg\u001b[0m\u001b[1;33m)\u001b[0m\u001b[1;33m\u001b[0m\u001b[1;33m\u001b[0m\u001b[0m\n\u001b[0m\u001b[0;32m    790\u001b[0m     \u001b[1;32melse\u001b[0m\u001b[1;33m:\u001b[0m\u001b[1;33m\u001b[0m\u001b[1;33m\u001b[0m\u001b[0m\n\u001b[0;32m    791\u001b[0m         \u001b[1;31m# Rename maxfev (leastsq) to max_nfev (least_squares), if specified.\u001b[0m\u001b[1;33m\u001b[0m\u001b[1;33m\u001b[0m\u001b[1;33m\u001b[0m\u001b[0m\n",
      "\u001b[1;31mRuntimeError\u001b[0m: Optimal parameters not found: Number of calls to function has reached maxfev = 1000."
     ]
    }
   ],
   "source": [
    "anharm_offset = qubit_lo_freq[0]/GHz + anharmonicity_guess_GHz\n",
    "\n",
    "fit_params, y_fit = helper.fit_lorentzian(anharm_offset + sb_freqs_GHz, spec12_values, [5, 4.5, .1, 3])\n",
    "\n",
    "f12 = fit_params[1]\n",
    "\n",
    "plt.scatter(anharm_offset + sb_freqs_GHz, np.real(spec12_values), color='white') # plot real part of sweep values\n",
    "plt.plot(anharm_offset + sb_freqs_GHz, y_fit, color='red')\n",
    "plt.xlim([anharm_offset + min(sb_freqs_GHz), anharm_offset + max(sb_freqs_GHz)])\n",
    "\n",
    "plt.xlabel(\"Frequency [GHz]\")\n",
    "plt.ylabel(\"Measured Signal [a.u.]\")\n",
    "plt.show()\n",
    "\n",
    "print(\"12 Spectroscopy yields %f GHz\"%f12)\n",
    "print(\"Measured transmon anharmonicity is %f MHz\"%((f12-f01)*GHz/MHz))"
   ]
  },
  {
   "cell_type": "markdown",
   "metadata": {},
   "source": [
    "**Help us improve our educational tools by submitting your code**<br>\n",
    "If you would like to help us learn how to improve our educational materials and offerings, you can opt in to send us a copy of your Jupyter notebook. By executing the cell below, you consent to sending us the code in your Jupyter notebook. All of the personal information will be anonymized."
   ]
  },
  {
   "cell_type": "code",
   "execution_count": null,
   "metadata": {},
   "outputs": [],
   "source": [
    "from IPython.display import display, Javascript;display(Javascript('IPython.notebook.save_checkpoint();'));\n",
    "from grading_tools import send_code;send_code('ex1.ipynb')"
   ]
  },
  {
   "cell_type": "markdown",
   "metadata": {},
   "source": [
    "# Additional Resources\n",
    "\n",
    "- The Qiskit textbook sections that cover this material are\n",
    "  - [Circuit Quantum Electrodynamics](https://qiskit.org/textbook/ch-quantum-hardware/cQED-JC-SW.html)\n",
    "  - [Accessing Higher Energy States](https://qiskit.org/textbook/ch-quantum-hardware/accessing_higher_energy_states.html)\n",
    "\n",
    "- Watch the videos\n",
    "  - [Quantum Coding with Lauren Capelluto](https://www.youtube.com/watch?v=ZvipHRY-URs)\n",
    "  - [\"Qiskit Pulse: Programming Quantum Computers Through the Cloud with Pulses\"](https://www.youtube.com/watch?v=V_as5PufUiU) webinar at CQT by yours truly"
   ]
  }
 ],
 "metadata": {
  "kernelspec": {
   "display_name": "Python 3",
   "language": "python",
   "name": "python3"
  },
  "language_info": {
   "codemirror_mode": {
    "name": "ipython",
    "version": 3
   },
   "file_extension": ".py",
   "mimetype": "text/x-python",
   "name": "python",
   "nbconvert_exporter": "python",
   "pygments_lexer": "ipython3",
   "version": "3.8.3"
  }
 },
 "nbformat": 4,
 "nbformat_minor": 4
}
